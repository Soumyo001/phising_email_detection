{
  "cells": [
    {
      "cell_type": "code",
      "execution_count": 34,
      "metadata": {
        "id": "2sk4PNMe0naW"
      },
      "outputs": [],
      "source": [
        "import re\n",
        "import numpy as np\n",
        "import pandas as pd\n",
        "import matplotlib.pyplot as plt\n",
        "import tensorflow as tf\n",
        "from sklearn.model_selection import train_test_split\n",
        "from sklearn.feature_extraction.text import TfidfVectorizer\n",
        "from sklearn.ensemble import RandomForestClassifier\n",
        "from sklearn.metrics import accuracy_score, precision_score, recall_score, f1_score, ConfusionMatrixDisplay\n",
        "from sklearn.metrics import confusion_matrix\n",
        "from sklearn.linear_model import LogisticRegression\n",
        "from sklearn.svm import SVC\n",
        "from sklearn.neighbors import KNeighborsClassifier\n",
        "from urllib.parse import urlparse, unquote\n",
        "from scipy.sparse import hstack\n",
        "from tqdm import tqdm  # Importing tqdm for progress bar\n",
        "from keras.layers import Dense, Dropout, BatchNormalization, Input, LSTM, Embedding, SpatialDropout1D\n",
        "from keras.callbacks import Callback\n",
        "from keras.layers import Input\n",
        "from keras.utils import Progbar\n",
        "from keras.models import Sequential\n",
        "from keras.optimizers import Adam\n",
        "from tensorflow.keras.preprocessing.text import Tokenizer\n",
        "from keras.preprocessing.sequence import pad_sequences"
      ]
    },
    {
      "cell_type": "code",
      "execution_count": 35,
      "metadata": {
        "id": "kH67hfnxugcr"
      },
      "outputs": [
        {
          "name": "stdout",
          "output_type": "stream",
          "text": [
            "Num GPUs Available:  1\n",
            "GPU is being used for training.\n"
          ]
        },
        {
          "name": "stderr",
          "output_type": "stream",
          "text": [
            "I0000 00:00:1751272223.661468   30573 gpu_device.cc:2019] Created device /device:GPU:0 with 9396 MB memory:  -> device: 0, name: NVIDIA GeForce RTX 3060, pci bus id: 0000:01:00.0, compute capability: 8.6\n"
          ]
        }
      ],
      "source": [
        "print(\"Num GPUs Available: \", len(tf.config.experimental.list_physical_devices('GPU')))\n",
        "\n",
        "# Check if TensorFlow is using the GPU\n",
        "if tf.test.is_gpu_available():\n",
        "    print(\"GPU is being used for training.\")\n",
        "else:\n",
        "    print(\"GPU is not being used.\")"
      ]
    },
    {
      "cell_type": "code",
      "execution_count": 36,
      "metadata": {
        "id": "6zGqv3Z3u3LN"
      },
      "outputs": [],
      "source": [
        "physical_devices = tf.config.experimental.list_physical_devices('GPU')\n",
        "if physical_devices:\n",
        "    tf.config.experimental.set_memory_growth(physical_devices[0], True)"
      ]
    },
    {
      "cell_type": "code",
      "execution_count": 37,
      "metadata": {
        "id": "TN5GArgI6D2E"
      },
      "outputs": [
        {
          "data": {
            "text/html": [
              "<div>\n",
              "<style scoped>\n",
              "    .dataframe tbody tr th:only-of-type {\n",
              "        vertical-align: middle;\n",
              "    }\n",
              "\n",
              "    .dataframe tbody tr th {\n",
              "        vertical-align: top;\n",
              "    }\n",
              "\n",
              "    .dataframe thead th {\n",
              "        text-align: right;\n",
              "    }\n",
              "</style>\n",
              "<table border=\"1\" class=\"dataframe\">\n",
              "  <thead>\n",
              "    <tr style=\"text-align: right;\">\n",
              "      <th></th>\n",
              "      <th>sender</th>\n",
              "      <th>receiver</th>\n",
              "      <th>date</th>\n",
              "      <th>subject</th>\n",
              "      <th>body</th>\n",
              "      <th>label</th>\n",
              "      <th>urls</th>\n",
              "    </tr>\n",
              "  </thead>\n",
              "  <tbody>\n",
              "    <tr>\n",
              "      <th>0</th>\n",
              "      <td>Young Esposito &lt;Young@iworld.de&gt;</td>\n",
              "      <td>user4@gvc.ceas-challenge.cc</td>\n",
              "      <td>Tue, 05 Aug 2008 16:31:02 -0700</td>\n",
              "      <td>Never agree to be a loser</td>\n",
              "      <td>Buck up, your troubles caused by small dimensi...</td>\n",
              "      <td>1</td>\n",
              "      <td>1</td>\n",
              "    </tr>\n",
              "    <tr>\n",
              "      <th>1</th>\n",
              "      <td>Mok &lt;ipline's1983@icable.ph&gt;</td>\n",
              "      <td>user2.2@gvc.ceas-challenge.cc</td>\n",
              "      <td>Tue, 05 Aug 2008 18:31:03 -0500</td>\n",
              "      <td>Befriend Jenna Jameson</td>\n",
              "      <td>\\nUpgrade your sex and pleasures with these te...</td>\n",
              "      <td>1</td>\n",
              "      <td>1</td>\n",
              "    </tr>\n",
              "    <tr>\n",
              "      <th>2</th>\n",
              "      <td>Daily Top 10 &lt;Karmandeep-opengevl@universalnet...</td>\n",
              "      <td>user2.9@gvc.ceas-challenge.cc</td>\n",
              "      <td>Tue, 05 Aug 2008 20:28:00 -1200</td>\n",
              "      <td>CNN.com Daily Top 10</td>\n",
              "      <td>&gt;+=+=+=+=+=+=+=+=+=+=+=+=+=+=+=+=+=+=+=+=+=+=+...</td>\n",
              "      <td>1</td>\n",
              "      <td>1</td>\n",
              "    </tr>\n",
              "    <tr>\n",
              "      <th>3</th>\n",
              "      <td>Michael Parker &lt;ivqrnai@pobox.com&gt;</td>\n",
              "      <td>SpamAssassin Dev &lt;xrh@spamassassin.apache.org&gt;</td>\n",
              "      <td>Tue, 05 Aug 2008 17:31:20 -0600</td>\n",
              "      <td>Re: svn commit: r619753 - in /spamassassin/tru...</td>\n",
              "      <td>Would anyone object to removing .so from this ...</td>\n",
              "      <td>0</td>\n",
              "      <td>1</td>\n",
              "    </tr>\n",
              "    <tr>\n",
              "      <th>4</th>\n",
              "      <td>Gretchen Suggs &lt;externalsep1@loanofficertool.com&gt;</td>\n",
              "      <td>user2.2@gvc.ceas-challenge.cc</td>\n",
              "      <td>Tue, 05 Aug 2008 19:31:21 -0400</td>\n",
              "      <td>SpecialPricesPharmMoreinfo</td>\n",
              "      <td>\\nWelcomeFastShippingCustomerSupport\\nhttp://7...</td>\n",
              "      <td>1</td>\n",
              "      <td>1</td>\n",
              "    </tr>\n",
              "  </tbody>\n",
              "</table>\n",
              "</div>"
            ],
            "text/plain": [
              "                                              sender  \\\n",
              "0                   Young Esposito <Young@iworld.de>   \n",
              "1                       Mok <ipline's1983@icable.ph>   \n",
              "2  Daily Top 10 <Karmandeep-opengevl@universalnet...   \n",
              "3                 Michael Parker <ivqrnai@pobox.com>   \n",
              "4  Gretchen Suggs <externalsep1@loanofficertool.com>   \n",
              "\n",
              "                                         receiver  \\\n",
              "0                     user4@gvc.ceas-challenge.cc   \n",
              "1                   user2.2@gvc.ceas-challenge.cc   \n",
              "2                   user2.9@gvc.ceas-challenge.cc   \n",
              "3  SpamAssassin Dev <xrh@spamassassin.apache.org>   \n",
              "4                   user2.2@gvc.ceas-challenge.cc   \n",
              "\n",
              "                              date  \\\n",
              "0  Tue, 05 Aug 2008 16:31:02 -0700   \n",
              "1  Tue, 05 Aug 2008 18:31:03 -0500   \n",
              "2  Tue, 05 Aug 2008 20:28:00 -1200   \n",
              "3  Tue, 05 Aug 2008 17:31:20 -0600   \n",
              "4  Tue, 05 Aug 2008 19:31:21 -0400   \n",
              "\n",
              "                                             subject  \\\n",
              "0                          Never agree to be a loser   \n",
              "1                             Befriend Jenna Jameson   \n",
              "2                               CNN.com Daily Top 10   \n",
              "3  Re: svn commit: r619753 - in /spamassassin/tru...   \n",
              "4                         SpecialPricesPharmMoreinfo   \n",
              "\n",
              "                                                body  label  urls  \n",
              "0  Buck up, your troubles caused by small dimensi...      1     1  \n",
              "1  \\nUpgrade your sex and pleasures with these te...      1     1  \n",
              "2  >+=+=+=+=+=+=+=+=+=+=+=+=+=+=+=+=+=+=+=+=+=+=+...      1     1  \n",
              "3  Would anyone object to removing .so from this ...      0     1  \n",
              "4  \\nWelcomeFastShippingCustomerSupport\\nhttp://7...      1     1  "
            ]
          },
          "execution_count": 37,
          "metadata": {},
          "output_type": "execute_result"
        }
      ],
      "source": [
        "# Step 1: Load and inspect the dataset\n",
        "file_path = '/mnt/partition1/machine_learning/phising_email_detection/CEAS_08.csv'\n",
        "data = pd.read_csv(file_path)\n",
        "data.head()"
      ]
    },
    {
      "cell_type": "code",
      "execution_count": 38,
      "metadata": {
        "id": "0wetyKzq4nBn"
      },
      "outputs": [
        {
          "name": "stdout",
          "output_type": "stream",
          "text": [
            "Maximum sequence length (max body length in words): 19863\n"
          ]
        }
      ],
      "source": [
        "data['body_length'] = data['body'].apply(lambda x: len(str(x).split()))  # Length of the email body in words\n",
        "max_sequence_length = data['body_length'].max()\n",
        "print(f\"Maximum sequence length (max body length in words): {max_sequence_length}\")"
      ]
    },
    {
      "cell_type": "code",
      "execution_count": null,
      "metadata": {
        "id": "pmPyLcaJ6JNv"
      },
      "outputs": [],
      "source": [
        "def clean_text(text):\n",
        "    text = re.sub(r'[^A-Za-z\\s]', '', text)  # Remove special characters and digits\n",
        "    text = text.lower()\n",
        "    return text\n",
        "\n",
        "def extract_urls(text):\n",
        "    urls = re.findall(r'http\\S+|www\\S+|https\\S+', text)\n",
        "    return urls\n",
        "\n",
        "def extract_domain(url):\n",
        "    try:\n",
        "        url = unquote(url)\n",
        "        if not url.startswith(('http://', 'https://')):\n",
        "            url = 'http://' + url\n",
        "\n",
        "        parsed_url = urlparse(url)\n",
        "        return parsed_url.netloc  # Return the domain (netloc)\n",
        "    except ValueError:\n",
        "        return \"\""
      ]
    },
    {
      "cell_type": "code",
      "execution_count": 40,
      "metadata": {
        "id": "q8IQYgvQ6JQ_"
      },
      "outputs": [
        {
          "data": {
            "text/html": [
              "<div>\n",
              "<style scoped>\n",
              "    .dataframe tbody tr th:only-of-type {\n",
              "        vertical-align: middle;\n",
              "    }\n",
              "\n",
              "    .dataframe tbody tr th {\n",
              "        vertical-align: top;\n",
              "    }\n",
              "\n",
              "    .dataframe thead th {\n",
              "        text-align: right;\n",
              "    }\n",
              "</style>\n",
              "<table border=\"1\" class=\"dataframe\">\n",
              "  <thead>\n",
              "    <tr style=\"text-align: right;\">\n",
              "      <th></th>\n",
              "      <th>sender</th>\n",
              "      <th>receiver</th>\n",
              "      <th>date</th>\n",
              "      <th>subject</th>\n",
              "      <th>body</th>\n",
              "      <th>label</th>\n",
              "      <th>urls</th>\n",
              "      <th>body_length</th>\n",
              "      <th>cleaned_body</th>\n",
              "      <th>num_urls</th>\n",
              "      <th>has_url</th>\n",
              "      <th>url_domains</th>\n",
              "    </tr>\n",
              "  </thead>\n",
              "  <tbody>\n",
              "    <tr>\n",
              "      <th>0</th>\n",
              "      <td>Young Esposito &lt;Young@iworld.de&gt;</td>\n",
              "      <td>user4@gvc.ceas-challenge.cc</td>\n",
              "      <td>Tue, 05 Aug 2008 16:31:02 -0700</td>\n",
              "      <td>Never agree to be a loser</td>\n",
              "      <td>Buck up, your troubles caused by small dimensi...</td>\n",
              "      <td>1</td>\n",
              "      <td>[http://whitedone.com/]</td>\n",
              "      <td>46</td>\n",
              "      <td>buck up your troubles caused by small dimensio...</td>\n",
              "      <td>1</td>\n",
              "      <td>1</td>\n",
              "      <td>[whitedone.com]</td>\n",
              "    </tr>\n",
              "    <tr>\n",
              "      <th>1</th>\n",
              "      <td>Mok &lt;ipline's1983@icable.ph&gt;</td>\n",
              "      <td>user2.2@gvc.ceas-challenge.cc</td>\n",
              "      <td>Tue, 05 Aug 2008 18:31:03 -0500</td>\n",
              "      <td>Befriend Jenna Jameson</td>\n",
              "      <td>\\nUpgrade your sex and pleasures with these te...</td>\n",
              "      <td>1</td>\n",
              "      <td>[http://www.brightmade.com]</td>\n",
              "      <td>9</td>\n",
              "      <td>\\nupgrade your sex and pleasures with these te...</td>\n",
              "      <td>1</td>\n",
              "      <td>1</td>\n",
              "      <td>[www.brightmade.com]</td>\n",
              "    </tr>\n",
              "    <tr>\n",
              "      <th>2</th>\n",
              "      <td>Daily Top 10 &lt;Karmandeep-opengevl@universalnet...</td>\n",
              "      <td>user2.9@gvc.ceas-challenge.cc</td>\n",
              "      <td>Tue, 05 Aug 2008 20:28:00 -1200</td>\n",
              "      <td>CNN.com Daily Top 10</td>\n",
              "      <td>&gt;+=+=+=+=+=+=+=+=+=+=+=+=+=+=+=+=+=+=+=+=+=+=+...</td>\n",
              "      <td>1</td>\n",
              "      <td>[http://www.cnn.com/video/partners/email/index...</td>\n",
              "      <td>302</td>\n",
              "      <td>the daily top  from cnncom top videos and sto...</td>\n",
              "      <td>24</td>\n",
              "      <td>1</td>\n",
              "      <td>[www.cnn.com, www.cnn.com, www.cnn.com, www.cn...</td>\n",
              "    </tr>\n",
              "    <tr>\n",
              "      <th>3</th>\n",
              "      <td>Michael Parker &lt;ivqrnai@pobox.com&gt;</td>\n",
              "      <td>SpamAssassin Dev &lt;xrh@spamassassin.apache.org&gt;</td>\n",
              "      <td>Tue, 05 Aug 2008 17:31:20 -0600</td>\n",
              "      <td>Re: svn commit: r619753 - in /spamassassin/tru...</td>\n",
              "      <td>Would anyone object to removing .so from this ...</td>\n",
              "      <td>0</td>\n",
              "      <td>[http://en.wikipedia.org/wiki/.so_%28domain_na...</td>\n",
              "      <td>2660</td>\n",
              "      <td>would anyone object to removing so from this l...</td>\n",
              "      <td>655</td>\n",
              "      <td>1</td>\n",
              "      <td>[en.wikipedia.org, svn.apache.org, svn.apache....</td>\n",
              "    </tr>\n",
              "    <tr>\n",
              "      <th>4</th>\n",
              "      <td>Gretchen Suggs &lt;externalsep1@loanofficertool.com&gt;</td>\n",
              "      <td>user2.2@gvc.ceas-challenge.cc</td>\n",
              "      <td>Tue, 05 Aug 2008 19:31:21 -0400</td>\n",
              "      <td>SpecialPricesPharmMoreinfo</td>\n",
              "      <td>\\nWelcomeFastShippingCustomerSupport\\nhttp://7...</td>\n",
              "      <td>1</td>\n",
              "      <td>[http://7iwfna.blu.livefilestore.com/y1pXdX3kw...</td>\n",
              "      <td>2</td>\n",
              "      <td>\\nwelcomefastshippingcustomersupport\\nhttpiwfn...</td>\n",
              "      <td>1</td>\n",
              "      <td>1</td>\n",
              "      <td>[7iwfna.blu.livefilestore.com]</td>\n",
              "    </tr>\n",
              "  </tbody>\n",
              "</table>\n",
              "</div>"
            ],
            "text/plain": [
              "                                              sender  \\\n",
              "0                   Young Esposito <Young@iworld.de>   \n",
              "1                       Mok <ipline's1983@icable.ph>   \n",
              "2  Daily Top 10 <Karmandeep-opengevl@universalnet...   \n",
              "3                 Michael Parker <ivqrnai@pobox.com>   \n",
              "4  Gretchen Suggs <externalsep1@loanofficertool.com>   \n",
              "\n",
              "                                         receiver  \\\n",
              "0                     user4@gvc.ceas-challenge.cc   \n",
              "1                   user2.2@gvc.ceas-challenge.cc   \n",
              "2                   user2.9@gvc.ceas-challenge.cc   \n",
              "3  SpamAssassin Dev <xrh@spamassassin.apache.org>   \n",
              "4                   user2.2@gvc.ceas-challenge.cc   \n",
              "\n",
              "                              date  \\\n",
              "0  Tue, 05 Aug 2008 16:31:02 -0700   \n",
              "1  Tue, 05 Aug 2008 18:31:03 -0500   \n",
              "2  Tue, 05 Aug 2008 20:28:00 -1200   \n",
              "3  Tue, 05 Aug 2008 17:31:20 -0600   \n",
              "4  Tue, 05 Aug 2008 19:31:21 -0400   \n",
              "\n",
              "                                             subject  \\\n",
              "0                          Never agree to be a loser   \n",
              "1                             Befriend Jenna Jameson   \n",
              "2                               CNN.com Daily Top 10   \n",
              "3  Re: svn commit: r619753 - in /spamassassin/tru...   \n",
              "4                         SpecialPricesPharmMoreinfo   \n",
              "\n",
              "                                                body  label  \\\n",
              "0  Buck up, your troubles caused by small dimensi...      1   \n",
              "1  \\nUpgrade your sex and pleasures with these te...      1   \n",
              "2  >+=+=+=+=+=+=+=+=+=+=+=+=+=+=+=+=+=+=+=+=+=+=+...      1   \n",
              "3  Would anyone object to removing .so from this ...      0   \n",
              "4  \\nWelcomeFastShippingCustomerSupport\\nhttp://7...      1   \n",
              "\n",
              "                                                urls  body_length  \\\n",
              "0                            [http://whitedone.com/]           46   \n",
              "1                        [http://www.brightmade.com]            9   \n",
              "2  [http://www.cnn.com/video/partners/email/index...          302   \n",
              "3  [http://en.wikipedia.org/wiki/.so_%28domain_na...         2660   \n",
              "4  [http://7iwfna.blu.livefilestore.com/y1pXdX3kw...            2   \n",
              "\n",
              "                                        cleaned_body  num_urls  has_url  \\\n",
              "0  buck up your troubles caused by small dimensio...         1        1   \n",
              "1  \\nupgrade your sex and pleasures with these te...         1        1   \n",
              "2   the daily top  from cnncom top videos and sto...        24        1   \n",
              "3  would anyone object to removing so from this l...       655        1   \n",
              "4  \\nwelcomefastshippingcustomersupport\\nhttpiwfn...         1        1   \n",
              "\n",
              "                                         url_domains  \n",
              "0                                    [whitedone.com]  \n",
              "1                               [www.brightmade.com]  \n",
              "2  [www.cnn.com, www.cnn.com, www.cnn.com, www.cn...  \n",
              "3  [en.wikipedia.org, svn.apache.org, svn.apache....  \n",
              "4                     [7iwfna.blu.livefilestore.com]  "
            ]
          },
          "execution_count": 40,
          "metadata": {},
          "output_type": "execute_result"
        }
      ],
      "source": [
        "data['cleaned_body'] = data['body'].apply(clean_text)\n",
        "data['urls'] = data['body'].apply(extract_urls)\n",
        "\n",
        "# Create features based on URLs\n",
        "data['num_urls'] = data['urls'].apply(lambda x: len(x))\n",
        "data['has_url'] = data['num_urls'].apply(lambda x: 1 if x > 0 else 0)\n",
        "data['url_domains'] = data['urls'].apply(lambda x: [extract_domain(url) for url in x])\n",
        "\n",
        "data.head()"
      ]
    },
    {
      "cell_type": "code",
      "execution_count": 41,
      "metadata": {
        "id": "PF5JCCmpdfEL"
      },
      "outputs": [],
      "source": [
        "def tokenize_and_pad(data, max_sequence_length=None, num_words=10000):\n",
        "    tokenizer = Tokenizer(num_words=num_words)\n",
        "    tokenizer.fit_on_texts(data)\n",
        "\n",
        "    sequences = tokenizer.texts_to_sequences(data)\n",
        "    if max_sequence_length is None:\n",
        "        max_sequence_length = max([len(seq) for seq in sequences])\n",
        "\n",
        "    padded_sequences = pad_sequences(sequences, maxlen=max_sequence_length)\n",
        "    return padded_sequences, tokenizer"
      ]
    },
    {
      "cell_type": "code",
      "execution_count": 42,
      "metadata": {
        "id": "HrtDvWtx7C7S"
      },
      "outputs": [],
      "source": [
        "vectorizer = TfidfVectorizer(max_features=10000, ngram_range=(1, 3))  # Using bigrams and trigrams\n",
        "X_text = vectorizer.fit_transform(data['cleaned_body'])\n",
        "\n",
        "# Combine the URL-based features with the text features\n",
        "X_urls = data[['has_url', 'num_urls']]  # Use has_url and num_urls as features\n",
        "\n",
        "# Domain features using TF-IDF for the domains\n",
        "X_domains = data['url_domains'].apply(lambda x: ' '.join(x))  # Join domains to use in vectorizer\n",
        "vectorizer_domains = TfidfVectorizer(max_features=500)  # Limit domain features to avoid overfitting\n",
        "X_domains = vectorizer_domains.fit_transform(X_domains)\n",
        "\n",
        "# Combine all features into one matrix (Text, URL, and Domain-based features)\n",
        "X = hstack([X_text, X_urls.values, X_domains])\n",
        "\n",
        "# Labels (Phishing or Not)\n",
        "y = data['label']\n",
        "X_padded, tokenizer = tokenize_and_pad(data['cleaned_body'], max_sequence_length=max_sequence_length, num_words=10000)"
      ]
    },
    {
      "cell_type": "code",
      "execution_count": 43,
      "metadata": {
        "id": "06_O3akD736C"
      },
      "outputs": [
        {
          "data": {
            "text/plain": [
              "19863"
            ]
          },
          "execution_count": 43,
          "metadata": {},
          "output_type": "execute_result"
        }
      ],
      "source": [
        "# Train-Test Split\n",
        "X_train_ml, X_test_ml, y_train, y_test = train_test_split(X, y, test_size=0.2, random_state=42)\n",
        "X_train_lstm, X_test_lstm = train_test_split(X_padded, test_size=0.2, random_state=42)\n",
        "# train_dataset_lstm = tf.data.Dataset.from_tensor_slices((X_train_lstm, y_train))\n",
        "# test_dataset_lstm = tf.data.Dataset.from_tensor_slices((X_test_lstm, y_test))\n",
        "# train_dataset_lstm = train_dataset_lstm.shuffle(buffer_size=10000).batch(8).prefetch(tf.data.experimental.AUTOTUNE)\n",
        "# test_dataset_lstm = test_dataset_lstm.batch(8)\n",
        "X_train_ml.shape[1]\n",
        "X_train_lstm.shape[1]"
      ]
    },
    {
      "cell_type": "code",
      "execution_count": 44,
      "metadata": {
        "id": "A91m0b_y1UME"
      },
      "outputs": [],
      "source": [
        "# def build_8_layer_lstm_model(input_dim, max_sequence_length):\n",
        "#     model = Sequential()\n",
        "\n",
        "#     # Embedding layer\n",
        "#     model.add(Embedding(input_dim=input_dim, output_dim=100, input_length=max_sequence_length))\n",
        "#     model.add(SpatialDropout1D(0.2))  # Dropout to prevent overfitting\n",
        "\n",
        "#     # Stacked LSTM layers (8 layers)\n",
        "#     model.add(LSTM(256, dropout=0.2, recurrent_dropout=0.2, return_sequences=True))  # 1st LSTM layer\n",
        "#     model.add(LSTM(256, dropout=0.2, recurrent_dropout=0.2, return_sequences=True))  # 2nd LSTM layer\n",
        "#     model.add(LSTM(256, dropout=0.2, recurrent_dropout=0.2, return_sequences=True))  # 3rd LSTM layer\n",
        "#     model.add(LSTM(128, dropout=0.2, recurrent_dropout=0.2, return_sequences=True))  # 4th LSTM layer\n",
        "#     model.add(LSTM(128, dropout=0.2, recurrent_dropout=0.2, return_sequences=True))  # 5th LSTM layer\n",
        "#     model.add(LSTM(64, dropout=0.2, recurrent_dropout=0.2, return_sequences=True))   # 6th LSTM layer\n",
        "#     model.add(LSTM(64, dropout=0.2, recurrent_dropout=0.2, return_sequences=True))   # 7th LSTM layer\n",
        "#     model.add(LSTM(32, dropout=0.2, recurrent_dropout=0.2))                         # 8th LSTM layer\n",
        "\n",
        "#     # Output layer (binary classification)\n",
        "#     model.add(Dense(1, activation='sigmoid'))  # Output layer for binary classification\n",
        "\n",
        "#     # Compile the model\n",
        "#     model.compile(optimizer=Adam(), loss='binary_crossentropy', metrics=['accuracy'])\n",
        "\n",
        "#     return model\n",
        "\n",
        "def build_lstm_model(input_dim, max_sequence_length):\n",
        "    model = Sequential()\n",
        "\n",
        "    # Embedding layer\n",
        "    model.add(Embedding(input_dim=input_dim, output_dim=100, input_length=max_sequence_length))\n",
        "    model.add(SpatialDropout1D(0.2))  # Dropout to prevent overfitting\n",
        "\n",
        "    # Stacked LSTM layers with fewer neurons\n",
        "    model.add(LSTM(128, dropout=0.2, recurrent_dropout=0.2, return_sequences=True))  # 1st LSTM layer\n",
        "    model.add(LSTM(128, dropout=0.2, recurrent_dropout=0.2, return_sequences=True))  # 2nd LSTM layer\n",
        "    model.add(LSTM(64, dropout=0.2, recurrent_dropout=0.2))  # 3rd LSTM layer\n",
        "\n",
        "    # Output layer\n",
        "    model.add(Dense(1, activation='sigmoid'))  # Output layer for binary classification\n",
        "\n",
        "    # Compile the model\n",
        "    model.compile(optimizer=Adam(), loss='binary_crossentropy', metrics=['accuracy'])\n",
        "\n",
        "    return model"
      ]
    },
    {
      "cell_type": "code",
      "execution_count": 45,
      "metadata": {
        "id": "x-ja-KBA1jGK"
      },
      "outputs": [],
      "source": [
        "class ProgressBar(Callback):\n",
        "    def on_epoch_end(self, epoch, logs=None):\n",
        "        tqdm.write(f\"Epoch {epoch + 1} completed.\")\n",
        "\n",
        "def train_lstm_nn(model, X_train, y_train, epochs=10, batch_size=32):\n",
        "    progress_bar = ProgressBar()\n",
        "    model.fit(X_train, y_train, epochs=epochs, batch_size=batch_size, verbose=0, callbacks=[progress_bar])"
      ]
    },
    {
      "cell_type": "code",
      "execution_count": 46,
      "metadata": {
        "id": "qOgAI2-C1upJ"
      },
      "outputs": [],
      "source": [
        "# input_dim = len(tokenizer.word_index) + 1  # Vocabulary size\n",
        "# lstm_model = build_lstm_model(input_dim=input_dim, max_sequence_length=max_sequence_length)\n",
        "# # lstm_model.fit(train_dataset_lstm, epochs=10)\n",
        "# train_lstm_nn(lstm_model, X_train_lstm, y_train, epochs=3, batch_size=16)"
      ]
    },
    {
      "cell_type": "code",
      "execution_count": null,
      "metadata": {
        "id": "05KcgWCuhPKD"
      },
      "outputs": [],
      "source": [
        "def build_neural_network(input_dim):\n",
        "    model = Sequential()\n",
        "\n",
        "    # Input layer\n",
        "    model.add(Input(shape=(input_dim,))) \n",
        "\n",
        "    model.add(Dense(512, activation='relu'))  # First hidden layer\n",
        "    model.add(BatchNormalization())  # Batch normalization\n",
        "    model.add(Dropout(0.3))  # Dropout to avoid overfitting\n",
        "\n",
        "    model.add(Dense(256, activation='relu'))  # Second hidden layer\n",
        "    model.add(BatchNormalization())\n",
        "    model.add(Dropout(0.3))\n",
        "\n",
        "    model.add(Dense(128, activation='relu'))  # Third hidden layer\n",
        "    model.add(BatchNormalization())\n",
        "    model.add(Dropout(0.3))\n",
        "\n",
        "    model.add(Dense(64, activation='relu'))  # Fourth hidden layer\n",
        "    model.add(BatchNormalization())\n",
        "    model.add(Dropout(0.3))\n",
        "\n",
        "    model.add(Dense(32, activation='relu'))  # Fifth hidden layer\n",
        "    model.add(BatchNormalization())\n",
        "    model.add(Dropout(0.3))\n",
        "\n",
        "    model.add(Dense(16, activation='relu'))  # Sixth hidden layer\n",
        "    model.add(BatchNormalization())\n",
        "    model.add(Dropout(0.3))\n",
        "\n",
        "    # Output layer\n",
        "    model.add(Dense(1, activation='sigmoid'))  \n",
        "\n",
        "    # Compile the model\n",
        "    model.compile(optimizer=Adam(), loss='binary_crossentropy', metrics=['accuracy'])\n",
        "\n",
        "    return model"
      ]
    },
    {
      "cell_type": "code",
      "execution_count": 48,
      "metadata": {
        "id": "Kb5Cgo6Qigmx"
      },
      "outputs": [],
      "source": [
        "class ProgressBar(Callback):\n",
        "    def on_epoch_end(self, epoch, logs=None):\n",
        "        tqdm.write(f\"Epoch {epoch + 1} completed.\")\n",
        "\n",
        "def train_nn(model, X_train, y_train, epochs=10, batch_size=32):\n",
        "    progress_bar = ProgressBar()\n",
        "    model.fit(X_train.toarray(), y_train, epochs=epochs, batch_size=batch_size, verbose=0, callbacks=[progress_bar])"
      ]
    },
    {
      "cell_type": "code",
      "execution_count": 49,
      "metadata": {
        "id": "lvmdCjhOifwi"
      },
      "outputs": [
        {
          "name": "stdout",
          "output_type": "stream",
          "text": [
            "Epoch 1 completed.\n",
            "Epoch 2 completed.\n",
            "Epoch 3 completed.\n",
            "Epoch 4 completed.\n",
            "Epoch 5 completed.\n",
            "Epoch 6 completed.\n",
            "Epoch 7 completed.\n",
            "Epoch 8 completed.\n",
            "Epoch 9 completed.\n",
            "Epoch 10 completed.\n"
          ]
        }
      ],
      "source": [
        "nn_model = build_neural_network(X_train_ml.shape[1])\n",
        "train_nn(nn_model, X_train_ml, y_train, epochs=10, batch_size=16)"
      ]
    },
    {
      "cell_type": "code",
      "execution_count": 50,
      "metadata": {
        "id": "nYqlUuQM9x-P"
      },
      "outputs": [],
      "source": [
        "models = {\n",
        "    \"Random Forest\": RandomForestClassifier(n_estimators=200, random_state=42),\n",
        "    \"SVM\": SVC(probability=True),\n",
        "    \"KNN\": KNeighborsClassifier()\n",
        "}"
      ]
    },
    {
      "cell_type": "code",
      "execution_count": null,
      "metadata": {
        "id": "-Y9d-s4okpPy"
      },
      "outputs": [],
      "source": [
        "def calculate_log_loss(model, X_test, y_test, epsilon=1e-15):\n",
        "    \"\"\"Calculate log loss, avoiding division by zero errors.\"\"\"\n",
        "    if hasattr(model, \"predict_proba\"):\n",
        "        proba = model.predict_proba(X_test)[:, 1]  # Get the probability of class 1 (phishing)\n",
        "    else:\n",
        "        proba = model.predict(X_test)  # The output of sigmoid is the probability for class 1\n",
        "    proba = np.clip(proba, epsilon, 1 - epsilon)\n",
        "    log_loss = -np.mean(np.log(proba) * y_test + np.log(1 - proba) * (1 - y_test))\n",
        "    return log_loss"
      ]
    },
    {
      "cell_type": "code",
      "execution_count": 52,
      "metadata": {
        "id": "3eaxAR5a92ea"
      },
      "outputs": [],
      "source": [
        "def evaluate_ml_model(model, X_train, X_test, y_train, y_test):\n",
        "    print(f\"Training {model.__class__.__name__}...\")\n",
        "\n",
        "    # Training with tqdm progress bar\n",
        "    for _ in tqdm(range(1), desc=f\"Training {model.__class__.__name__}\"):\n",
        "        model.fit(X_train, y_train)\n",
        "\n",
        "    # Predict\n",
        "    y_pred = model.predict(X_test)\n",
        "\n",
        "    # Metrics\n",
        "    accuracy = accuracy_score(y_test, y_pred)\n",
        "    precision = precision_score(y_test, y_pred)\n",
        "    recall = recall_score(y_test, y_pred)\n",
        "    f1 = f1_score(y_test, y_pred)\n",
        "\n",
        "    # Calculate log loss\n",
        "    log_loss = calculate_log_loss(model, X_test, y_test)\n",
        "\n",
        "    # Displaying the metrics\n",
        "    print(f\"Accuracy: {accuracy:.4f}\")\n",
        "    print(f\"Precision: {precision:.4f}\")\n",
        "    print(f\"Recall: {recall:.4f}\")\n",
        "    print(f\"F1 Score: {f1:.4f}\")\n",
        "    if log_loss is not None:\n",
        "        print(f\"Log Loss: {log_loss:.4f}\")\n",
        "\n",
        "    return accuracy, precision, recall, f1, log_loss"
      ]
    },
    {
      "cell_type": "code",
      "execution_count": 53,
      "metadata": {
        "id": "BW00PnCfmXHl"
      },
      "outputs": [],
      "source": [
        "def evaluate_nn_model(model, X_train, X_test, y_train, y_test, is_lstm=False):\n",
        "\n",
        "    if is_lstm:\n",
        "        y_pred = (model.predict(X_test) > 0.5).astype(int)\n",
        "    else:\n",
        "        y_pred = (model.predict(X_test.toarray()) > 0.5).astype(int)\n",
        "\n",
        "    # Metrics\n",
        "    accuracy = accuracy_score(y_test, y_pred)\n",
        "    precision = precision_score(y_test, y_pred)\n",
        "    recall = recall_score(y_test, y_pred)\n",
        "    f1 = f1_score(y_test, y_pred)\n",
        "    log_loss = calculate_log_loss(model, X_test, y_test)\n",
        "\n",
        "    # Displaying the metrics\n",
        "    print(f\"Accuracy: {accuracy:.4f}\")\n",
        "    print(f\"Precision: {precision:.4f}\")\n",
        "    print(f\"Recall: {recall:.4f}\")\n",
        "    print(f\"F1 Score: {f1:.4f}\")\n",
        "    if log_loss is not None:\n",
        "        print(f\"Log Loss: {log_loss:.4f}\")\n",
        "\n",
        "    return accuracy, precision, recall, f1, log_loss"
      ]
    },
    {
      "cell_type": "code",
      "execution_count": 54,
      "metadata": {
        "id": "qXZbp4Pj9852"
      },
      "outputs": [
        {
          "name": "stdout",
          "output_type": "stream",
          "text": [
            "\n",
            "Evaluating Random Forest model...\n",
            "Training RandomForestClassifier...\n"
          ]
        },
        {
          "name": "stderr",
          "output_type": "stream",
          "text": [
            "Training RandomForestClassifier: 100%|██████████| 1/1 [00:45<00:00, 45.22s/it]\n"
          ]
        },
        {
          "name": "stdout",
          "output_type": "stream",
          "text": [
            "Accuracy: 0.9930\n",
            "Precision: 0.9931\n",
            "Recall: 0.9942\n",
            "F1 Score: 0.9937\n",
            "Log Loss: 0.0479\n",
            "\n",
            "Evaluating SVM model...\n",
            "Training SVC...\n"
          ]
        },
        {
          "name": "stderr",
          "output_type": "stream",
          "text": [
            "Training SVC: 100%|██████████| 1/1 [11:12<00:00, 672.07s/it]\n"
          ]
        },
        {
          "name": "stdout",
          "output_type": "stream",
          "text": [
            "Accuracy: 0.9798\n",
            "Precision: 0.9800\n",
            "Recall: 0.9836\n",
            "F1 Score: 0.9818\n",
            "Log Loss: 0.0655\n",
            "\n",
            "Evaluating KNN model...\n",
            "Training KNeighborsClassifier...\n"
          ]
        },
        {
          "name": "stderr",
          "output_type": "stream",
          "text": [
            "Training KNeighborsClassifier: 100%|██████████| 1/1 [00:00<00:00, 163.45it/s]\n"
          ]
        },
        {
          "name": "stdout",
          "output_type": "stream",
          "text": [
            "Accuracy: 0.9005\n",
            "Precision: 0.8507\n",
            "Recall: 0.9952\n",
            "F1 Score: 0.9173\n",
            "Log Loss: 1.2159\n"
          ]
        }
      ],
      "source": [
        "trained_models = {}\n",
        "results = {}\n",
        "\n",
        "# Evaluate machine learning models\n",
        "for name, model in models.items():\n",
        "    print(f\"\\nEvaluating {name} model...\")\n",
        "    accuracy, precision, recall, f1, log_loss = evaluate_ml_model(model, X_train_ml, X_test_ml, y_train, y_test)\n",
        "    results[name] = {\n",
        "        \"Accuracy\": accuracy,\n",
        "        \"Precision\": precision,\n",
        "        \"Recall\": recall,\n",
        "        \"F1 Score\": f1,\n",
        "        \"Log Loss\": log_loss,\n",
        "    }\n",
        "    trained_models[name] = model  # Save the trained model for future use"
      ]
    },
    {
      "cell_type": "code",
      "execution_count": 55,
      "metadata": {
        "id": "FxcSRr8Hmpn0"
      },
      "outputs": [
        {
          "name": "stdout",
          "output_type": "stream",
          "text": [
            "\n",
            "Evaluating Neural Network model...\n",
            "\u001b[1m245/245\u001b[0m \u001b[32m━━━━━━━━━━━━━━━━━━━━\u001b[0m\u001b[37m\u001b[0m \u001b[1m1s\u001b[0m 2ms/step\n",
            "Accuracy: 0.9954\n",
            "Precision: 0.9975\n",
            "Recall: 0.9942\n",
            "F1 Score: 0.9958\n"
          ]
        }
      ],
      "source": [
        "print(\"\\nEvaluating Neural Network model...\")\n",
        "accuracy, precision, recall, f1, log_loss = evaluate_nn_model(nn_model, X_train_ml, X_test_ml, y_train, y_test)\n",
        "results[\"Neural Network\"] = {\n",
        "    \"Accuracy\": accuracy,\n",
        "    \"Precision\": precision,\n",
        "    \"Recall\": recall,\n",
        "    \"F1 Score\": f1,\n",
        "    \"Log Loss\": log_loss,\n",
        "}\n",
        "trained_models[\"Neural Network\"] = nn_model"
      ]
    },
    {
      "cell_type": "code",
      "execution_count": 56,
      "metadata": {
        "id": "yVjSBkabVRrT"
      },
      "outputs": [],
      "source": [
        "# print(\"\\nEvaluating LSTM model...\")\n",
        "# accuracy, precision, recall, f1, log_loss = evaluate_nn_model(lstm_model, X_train_lstm, X_test_lstm, y_train, y_test, is_lstm=True)\n",
        "# results[\"LSTM\"] = {\n",
        "#     \"Accuracy\": accuracy,\n",
        "#     \"Precision\": precision,\n",
        "#     \"Recall\": recall,\n",
        "#     \"F1 Score\": f1,\n",
        "#     \"Log Loss\": log_loss,\n",
        "# }\n",
        "# trained_models[\"LSTM\"] = lstm_model"
      ]
    },
    {
      "cell_type": "code",
      "execution_count": 57,
      "metadata": {
        "id": "XxFvNNyO-Bwm"
      },
      "outputs": [
        {
          "name": "stdout",
          "output_type": "stream",
          "text": [
            "\n",
            "Model: Random Forest\n",
            "Accuracy: 0.992976631336994\n",
            "Precision: 0.9930971007823286\n",
            "Recall: 0.9942409583045381\n",
            "F1 Score: 0.9936687003568551\n",
            "Log Loss: 0.04790971406603817\n",
            "--------------------------------------------------\n",
            "\n",
            "Model: SVM\n",
            "Accuracy: 0.9798237772953646\n",
            "Precision: 0.9800321322010558\n",
            "Recall: 0.9836443215848882\n",
            "F1 Score: 0.9818349045757645\n",
            "Log Loss: 0.06554928127219882\n",
            "--------------------------------------------------\n",
            "\n",
            "Model: KNN\n",
            "Accuracy: 0.900523560209424\n",
            "Precision: 0.8507286333202048\n",
            "Recall: 0.995162404975812\n",
            "F1 Score: 0.9172948295997452\n",
            "Log Loss: 1.2158917979003323\n",
            "--------------------------------------------------\n",
            "\n",
            "Model: Neural Network\n",
            "Accuracy: 0.9954028859660324\n",
            "Precision: 0.997457822972036\n",
            "Recall: 0.9942409583045381\n",
            "F1 Score: 0.9958467928011075\n",
            "Log Loss: None\n",
            "--------------------------------------------------\n"
          ]
        }
      ],
      "source": [
        "for model_name, metrics in results.items():\n",
        "    print(f\"\\nModel: {model_name}\")\n",
        "    for metric, value in metrics.items():\n",
        "        print(f\"{metric}: {value}\")\n",
        "    print(\"-\" * 50)"
      ]
    },
    {
      "cell_type": "code",
      "execution_count": 58,
      "metadata": {
        "id": "PMmwAD0b-Qap"
      },
      "outputs": [
        {
          "data": {
            "text/plain": [
              "<Figure size 600x600 with 0 Axes>"
            ]
          },
          "metadata": {},
          "output_type": "display_data"
        },
        {
          "data": {
            "image/png": "[encoded data removed]",
            "text/plain": [
              "<Figure size 640x480 with 2 Axes>"
            ]
          },
          "metadata": {},
          "output_type": "display_data"
        },
        {
          "data": {
            "text/plain": [
              "<Figure size 600x600 with 0 Axes>"
            ]
          },
          "metadata": {},
          "output_type": "display_data"
        },
        {
          "data": {
            "image/png": "[encoded data removed]",
            "text/plain": [
              "<Figure size 640x480 with 2 Axes>"
            ]
          },
          "metadata": {},
          "output_type": "display_data"
        },
        {
          "data": {
            "text/plain": [
              "<Figure size 600x600 with 0 Axes>"
            ]
          },
          "metadata": {},
          "output_type": "display_data"
        },
        {
          "data": {
            "image/png": "[encoded data removed]",
            "text/plain": [
              "<Figure size 640x480 with 2 Axes>"
            ]
          },
          "metadata": {},
          "output_type": "display_data"
        },
        {
          "name": "stdout",
          "output_type": "stream",
          "text": [
            "\u001b[1m245/245\u001b[0m \u001b[32m━━━━━━━━━━━━━━━━━━━━\u001b[0m\u001b[37m\u001b[0m \u001b[1m0s\u001b[0m 1ms/step\n"
          ]
        },
        {
          "data": {
            "text/plain": [
              "<Figure size 600x600 with 0 Axes>"
            ]
          },
          "metadata": {},
          "output_type": "display_data"
        },
        {
          "data": {
            "image/png": "[encoded data removed]",
            "text/plain": [
              "<Figure size 640x480 with 2 Axes>"
            ]
          },
          "metadata": {},
          "output_type": "display_data"
        }
      ],
      "source": [
        "for name, model in trained_models.items():\n",
        "    if name == \"Neural Network\" or name == \"LSTM\":\n",
        "        if name == \"Neural Network\":\n",
        "            y_pred = (model.predict(X_test_ml.toarray()) > 0.5).astype(int)  # .toarray() since we're using TF-IDF for NN\n",
        "        else:\n",
        "            y_pred = (model.predict(X_test_lstm) > 0.5).astype(int)\n",
        "    else:\n",
        "        y_pred = model.predict(X_test_ml)\n",
        "\n",
        "    # Compute confusion matrix\n",
        "    cm = confusion_matrix(y_test, y_pred)\n",
        "\n",
        "    # Plot confusion matrix\n",
        "    plt.figure(figsize=(6, 6))\n",
        "    disp = ConfusionMatrixDisplay(confusion_matrix=cm, display_labels=[\"Non-Phishing\", \"Phishing\"])\n",
        "    disp.plot(cmap=plt.cm.Blues)\n",
        "    plt.title(f'Confusion Matrix for {name}')\n",
        "    plt.show()\n"
      ]
    },
    {
      "cell_type": "code",
      "execution_count": 59,
      "metadata": {
        "id": "Eki9TYvq-Uya"
      },
      "outputs": [
        {
          "data": {
            "image/png": "[encoded data removed]",
            "text/plain": [
              "<Figure size 1000x600 with 1 Axes>"
            ]
          },
          "metadata": {},
          "output_type": "display_data"
        },
        {
          "name": "stdout",
          "output_type": "stream",
          "text": [
            "\n",
            "Model Evaluation Table:\n",
            "                Accuracy  Precision    Recall  F1 Score  Log Loss\n",
            "Random Forest   0.992977   0.993097  0.994241  0.993669  0.047910\n",
            "SVM             0.979824   0.980032  0.983644  0.981835  0.065549\n",
            "KNN             0.900524   0.850729  0.995162  0.917295  1.215892\n",
            "Neural Network  0.995403   0.997458  0.994241  0.995847       NaN\n"
          ]
        }
      ],
      "source": [
        "df_results = pd.DataFrame(results).T  # Transpose to get models as rows\n",
        "fig, ax = plt.subplots(figsize=(10, 6))\n",
        "df_results.plot(kind='bar', ax=ax)\n",
        "ax.set_title(\"Model Evaluation Scores (Accuracy, Precision, Recall, F1)\", fontsize=16)\n",
        "ax.set_xlabel(\"Model\", fontsize=12)\n",
        "ax.set_ylabel(\"Score\", fontsize=12)\n",
        "ax.legend(title=\"Metrics\", fontsize=10)\n",
        "ax.grid(True, axis='y', linestyle='--', alpha=0.7)\n",
        "plt.tight_layout()\n",
        "plt.show()\n",
        "\n",
        "\n",
        "print(\"\\nModel Evaluation Table:\")\n",
        "print(df_results)"
      ]
    },
    {
      "cell_type": "code",
      "execution_count": 60,
      "metadata": {
        "id": "ZQMLvAqf-XtI"
      },
      "outputs": [],
      "source": [
        "def test_email(input_text, trained_models, vectorizer, vectorizer_domains):\n",
        "    \"\"\"Classify a new email as phishing or non-phishing using all trained models.\"\"\"\n",
        "    # Clean and process the text\n",
        "    cleaned_input = clean_text(input_text)\n",
        "    input_vector_text = vectorizer.transform([cleaned_input])\n",
        "\n",
        "    # Extract URL domains if any\n",
        "    domains_input = ' '.join(extract_domain(url) for url in extract_urls(input_text))\n",
        "    input_vector_domains = vectorizer_domains.transform([domains_input])\n",
        "\n",
        "    # Create URL features (has_url and num_urls)\n",
        "    num_urls = len(extract_urls(input_text))  # Number of URLs in the email\n",
        "    has_url = 1 if num_urls > 0 else 0        # Whether the email has URLs\n",
        "\n",
        "    # Concatenate the text and URL features\n",
        "    input_vector_urls = np.array([[has_url, num_urls]])  # The URL-related features as a matrix\n",
        "    input_vector = hstack([input_vector_text, input_vector_urls, input_vector_domains])  # Combine all features\n",
        "\n",
        "    results = {}\n",
        "    for model_name, model in trained_models.items():\n",
        "        # Get prediction from the model\n",
        "        prediction = model.predict(input_vector)\n",
        "        results[model_name] = \"Phishing\" if prediction[0] == 1 else \"Non-Phishing\"\n",
        "\n",
        "    # Neural network prediction\n",
        "    nn_prediction = nn_model.predict(input_vector.toarray())\n",
        "    results[\"Neural Network\"] = \"Phishing\" if nn_prediction[0] > 0.5 else \"Non-Phishing\"\n",
        "\n",
        "    return results"
      ]
    },
    {
      "cell_type": "code",
      "execution_count": 61,
      "metadata": {
        "id": "ohUjsH5VQaJL"
      },
      "outputs": [
        {
          "name": "stdout",
          "output_type": "stream",
          "text": [
            "\u001b[1m1/1\u001b[0m \u001b[32m━━━━━━━━━━━━━━━━━━━━\u001b[0m\u001b[37m\u001b[0m \u001b[1m1s\u001b[0m 675ms/step\n",
            "\u001b[1m1/1\u001b[0m \u001b[32m━━━━━━━━━━━━━━━━━━━━\u001b[0m\u001b[37m\u001b[0m \u001b[1m0s\u001b[0m 320ms/step\n",
            "\n",
            "Results from all trained models:\n",
            "Random Forest: Phishing\n",
            "SVM: Phishing\n",
            "KNN: Phishing\n",
            "Neural Network: Phishing\n"
          ]
        }
      ],
      "source": [
        "new_email = \"Long Time no See bro!\"\n",
        "results = test_email(new_email, trained_models, vectorizer, vectorizer_domains)\n",
        "\n",
        "# Display results from all trained models\n",
        "print(\"\\nResults from all trained models:\")\n",
        "for model_name, result in results.items():\n",
        "    print(f\"{model_name}: {result}\")"
      ]
    }
  ],
  "metadata": {
    "accelerator": "GPU",
    "colab": {
      "gpuType": "T4",
      "provenance": []
    },
    "kernelspec": {
      "display_name": "venv",
      "language": "python",
      "name": "python3"
    },
    "language_info": {
      "codemirror_mode": {
        "name": "ipython",
        "version": 3
      },
      "file_extension": ".py",
      "mimetype": "text/x-python",
      "name": "python",
      "nbconvert_exporter": "python",
      "pygments_lexer": "ipython3",
      "version": "3.10.18"
    }
  },
  "nbformat": 4,
  "nbformat_minor": 0
}
